{
  "nbformat": 4,
  "nbformat_minor": 0,
  "metadata": {
    "colab": {
      "provenance": [],
      "authorship_tag": "ABX9TyPaeHFmtSv+Vpd2EHuySFd+",
      "include_colab_link": true
    },
    "kernelspec": {
      "name": "python3",
      "display_name": "Python 3"
    },
    "language_info": {
      "name": "python"
    }
  },
  "cells": [
    {
      "cell_type": "markdown",
      "metadata": {
        "id": "view-in-github",
        "colab_type": "text"
      },
      "source": [
        "<a href=\"https://colab.research.google.com/github/newmantic/immunization/blob/main/immunization.ipynb\" target=\"_parent\"><img src=\"https://colab.research.google.com/assets/colab-badge.svg\" alt=\"Open In Colab\"/></a>"
      ]
    },
    {
      "cell_type": "code",
      "execution_count": 1,
      "metadata": {
        "id": "-hjf_YB2huqy"
      },
      "outputs": [],
      "source": [
        "def present_value(cash_flows, times, discount_rate):\n",
        "    \"\"\"\n",
        "    Calculate the present value of a series of cash flows.\n",
        "\n",
        "    Args:\n",
        "        cash_flows (list): List of cash flows.\n",
        "        times (list): List of times (in years) when the cash flows are received.\n",
        "        discount_rate (float): Discount rate or yield to maturity.\n",
        "\n",
        "    Returns:\n",
        "        float: The present value of the cash flows.\n",
        "    \"\"\"\n",
        "    pv = sum(cf / (1 + discount_rate) ** t for cf, t in zip(cash_flows, times))\n",
        "    return pv"
      ]
    },
    {
      "cell_type": "code",
      "source": [
        "def calculate_duration(cash_flows, times, discount_rate):\n",
        "    \"\"\"\n",
        "    Calculate the Macaulay duration of a series of cash flows.\n",
        "\n",
        "    Args:\n",
        "        cash_flows (list): List of cash flows.\n",
        "        times (list): List of times (in years) when the cash flows are received.\n",
        "        discount_rate (float): Discount rate or yield to maturity.\n",
        "\n",
        "    Returns:\n",
        "        float: The Macaulay duration.\n",
        "    \"\"\"\n",
        "    pv_cash_flows = [cf / (1 + discount_rate) ** t for cf, t in zip(cash_flows, times)]\n",
        "    total_pv = sum(pv_cash_flows)\n",
        "    weighted_times = [(t * pv_cf) for t, pv_cf in zip(times, pv_cash_flows)]\n",
        "    duration = sum(weighted_times) / total_pv\n",
        "    return duration"
      ],
      "metadata": {
        "id": "073pTyyOiEKt"
      },
      "execution_count": 2,
      "outputs": []
    },
    {
      "cell_type": "code",
      "source": [
        "def check_immunization(asset_cash_flows, asset_times, liability_cash_flows, liability_times, discount_rate):\n",
        "    \"\"\"\n",
        "    Check if a portfolio is immunized by matching the duration and present value of assets and liabilities.\n",
        "\n",
        "    Args:\n",
        "        asset_cash_flows (list): List of cash flows for assets.\n",
        "        asset_times (list): List of times (in years) when the asset cash flows are received.\n",
        "        liability_cash_flows (list): List of cash flows for liabilities.\n",
        "        liability_times (list): List of times (in years) when the liability cash flows are due.\n",
        "        discount_rate (float): Discount rate or yield to maturity.\n",
        "\n",
        "    Returns:\n",
        "        bool: True if the portfolio is immunized, False otherwise.\n",
        "    \"\"\"\n",
        "    asset_pv = present_value(asset_cash_flows, asset_times, discount_rate)\n",
        "    liability_pv = present_value(liability_cash_flows, liability_times, discount_rate)\n",
        "\n",
        "    asset_duration = calculate_duration(asset_cash_flows, asset_times, discount_rate)\n",
        "    liability_duration = calculate_duration(liability_cash_flows, liability_times, discount_rate)\n",
        "\n",
        "    return abs(asset_pv - liability_pv) < 1e-6 and abs(asset_duration - liability_duration) < 1e-6"
      ],
      "metadata": {
        "id": "yBCRflKMiHmH"
      },
      "execution_count": 3,
      "outputs": []
    },
    {
      "cell_type": "code",
      "source": [
        "# Example cash flows and times for a bond\n",
        "cash_flows = [100, 100, 1100]\n",
        "times = [1, 2, 3]  # Years\n",
        "discount_rate = 0.05  # 5% discount rate\n",
        "\n",
        "pv = present_value(cash_flows, times, discount_rate)\n",
        "print(f\"Present Value: {pv:.2f}\")"
      ],
      "metadata": {
        "colab": {
          "base_uri": "https://localhost:8080/"
        },
        "id": "GsgLDJ9eiI0P",
        "outputId": "70bc7172-ed18-407f-d284-96f3ceeee0b1"
      },
      "execution_count": 4,
      "outputs": [
        {
          "output_type": "stream",
          "name": "stdout",
          "text": [
            "Present Value: 1136.16\n"
          ]
        }
      ]
    },
    {
      "cell_type": "code",
      "source": [
        "# Example bond with annual cash flows of $100 for 3 years and $1000 at maturity\n",
        "cash_flows = [100, 100, 1100]\n",
        "times = [1, 2, 3]  # Years\n",
        "discount_rate = 0.05  # 5% discount rate\n",
        "\n",
        "duration = calculate_duration(cash_flows, times, discount_rate)\n",
        "print(f\"Macaulay Duration: {duration:.2f} years\")"
      ],
      "metadata": {
        "colab": {
          "base_uri": "https://localhost:8080/"
        },
        "id": "68S9y0z5iLVe",
        "outputId": "57b38189-7363-43ab-b08f-311db8ac2d71"
      },
      "execution_count": 5,
      "outputs": [
        {
          "output_type": "stream",
          "name": "stdout",
          "text": [
            "Macaulay Duration: 2.75 years\n"
          ]
        }
      ]
    },
    {
      "cell_type": "code",
      "source": [
        "# Example asset and liability cash flows\n",
        "asset_cash_flows = [100, 100, 1100]\n",
        "asset_times = [1, 2, 3]  # Years\n",
        "\n",
        "liability_cash_flows = [1200]\n",
        "liability_times = [2]  # Years\n",
        "\n",
        "discount_rate = 0.05  # 5% discount rate\n",
        "\n",
        "is_immunized = check_immunization(asset_cash_flows, asset_times, liability_cash_flows, liability_times, discount_rate)\n",
        "print(f\"Portfolio Immunized: {is_immunized}\")"
      ],
      "metadata": {
        "colab": {
          "base_uri": "https://localhost:8080/"
        },
        "id": "73xPjr6eiOSf",
        "outputId": "aa8653ef-f863-48d7-c764-adcef28fec0b"
      },
      "execution_count": 6,
      "outputs": [
        {
          "output_type": "stream",
          "name": "stdout",
          "text": [
            "Portfolio Immunized: False\n"
          ]
        }
      ]
    }
  ]
}